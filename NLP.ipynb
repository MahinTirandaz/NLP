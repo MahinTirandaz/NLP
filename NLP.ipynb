{
 "cells": [
  {
   "cell_type": "code",
   "execution_count": 1,
   "id": "ab70eab5",
   "metadata": {},
   "outputs": [],
   "source": [
    "import re\n",
    "\n",
    "txt = \"Genome Biology covers all areas of biology and biomedicine studied from a genomic and post-genomic perspective. Content includes research, new methods and software tools, and reviews, opinions and commentaries. Areas covered include, but are not limited to: sequence analysis; bioinformatics; insights into molecular, cellular and organismal biology; functional genomics; epigenomics; population genomics; proteomics; comparative biology and evolution; systems and network biology; genome editing and engineering; genomics of disease; and clinical genomics.\"\n"
   ]
  },
  {
   "cell_type": "code",
   "execution_count": 2,
   "id": "81542054",
   "metadata": {},
   "outputs": [
    {
     "name": "stdout",
     "output_type": "stream",
     "text": [
      "['Genome', 'Biology', 'covers', 'all', 'areas', 'of', 'biology', 'and', 'biomedicine', 'studied', 'from', 'a', 'genomic', 'and', 'post-genomic', 'perspective', '.', 'Content', 'includes', 'research', ',', 'new', 'methods', 'and', 'software', 'tools', ',', 'and', 'reviews', ',', 'opinions', 'and', 'commentaries', '.', 'Areas', 'covered', 'include', ',', 'but', 'are', 'not', 'limited', 'to', ':', 'sequence', 'analysis', ';', 'bioinformatics', ';', 'insights', 'into', 'molecular', ',', 'cellular', 'and', 'organismal', 'biology', ';', 'functional', 'genomics', ';', 'epigenomics', ';', 'population', 'genomics', ';', 'proteomics', ';', 'comparative', 'biology', 'and', 'evolution', ';', 'systems', 'and', 'network', 'biology', ';', 'genome', 'editing', 'and', 'engineering', ';', 'genomics', 'of', 'disease', ';', 'and', 'clinical', 'genomics', '.']\n"
     ]
    }
   ],
   "source": [
    "from nltk.tokenize import word_tokenize\n",
    "\n",
    "# Tokenizing the text\n",
    "tokens = word_tokenize(txt)\n",
    "print(tokens)\n"
   ]
  },
  {
   "cell_type": "code",
   "execution_count": 3,
   "id": "32759f3f",
   "metadata": {
    "scrolled": false
   },
   "outputs": [
    {
     "name": "stdout",
     "output_type": "stream",
     "text": [
      "(S\n",
      "  (PERSON Genome/NNP)\n",
      "  (ORGANIZATION Biology/NNP)\n",
      "  covers/VBZ\n",
      "  all/DT\n",
      "  areas/NNS\n",
      "  of/IN\n",
      "  biology/NN\n",
      "  and/CC\n",
      "  biomedicine/NN\n",
      "  studied/VBN\n",
      "  from/IN\n",
      "  a/DT\n",
      "  genomic/JJ\n",
      "  and/CC\n",
      "  post-genomic/JJ\n",
      "  perspective/NN\n",
      "  ./.\n",
      "  Content/NNP\n",
      "  includes/VBZ\n",
      "  research/NN\n",
      "  ,/,\n",
      "  new/JJ\n",
      "  methods/NNS\n",
      "  and/CC\n",
      "  software/NN\n",
      "  tools/NNS\n",
      "  ,/,\n",
      "  and/CC\n",
      "  reviews/NNS\n",
      "  ,/,\n",
      "  opinions/NNS\n",
      "  and/CC\n",
      "  commentaries/NNS\n",
      "  ./.\n",
      "  (PERSON Areas/NNP)\n",
      "  covered/VBD\n",
      "  include/NN\n",
      "  ,/,\n",
      "  but/CC\n",
      "  are/VBP\n",
      "  not/RB\n",
      "  limited/VBN\n",
      "  to/TO\n",
      "  :/:\n",
      "  sequence/NN\n",
      "  analysis/NN\n",
      "  ;/:\n",
      "  bioinformatics/NNS\n",
      "  ;/:\n",
      "  insights/NNS\n",
      "  into/IN\n",
      "  molecular/JJ\n",
      "  ,/,\n",
      "  cellular/JJ\n",
      "  and/CC\n",
      "  organismal/JJ\n",
      "  biology/NN\n",
      "  ;/:\n",
      "  functional/JJ\n",
      "  genomics/NNS\n",
      "  ;/:\n",
      "  epigenomics/NNS\n",
      "  ;/:\n",
      "  population/NN\n",
      "  genomics/NNS\n",
      "  ;/:\n",
      "  proteomics/NNS\n",
      "  ;/:\n",
      "  comparative/JJ\n",
      "  biology/NN\n",
      "  and/CC\n",
      "  evolution/NN\n",
      "  ;/:\n",
      "  systems/NNS\n",
      "  and/CC\n",
      "  network/NN\n",
      "  biology/NN\n",
      "  ;/:\n",
      "  genome/CC\n",
      "  editing/NN\n",
      "  and/CC\n",
      "  engineering/NN\n",
      "  ;/:\n",
      "  genomics/NNS\n",
      "  of/IN\n",
      "  disease/NN\n",
      "  ;/:\n",
      "  and/CC\n",
      "  clinical/JJ\n",
      "  genomics/NNS\n",
      "  ./.)\n"
     ]
    }
   ],
   "source": [
    "from nltk import pos_tag, ne_chunk\n",
    "\n",
    "# Perform part-of-speech tagging\n",
    "pos_tags = pos_tag(tokens)\n",
    "\n",
    "# Perform named entity recognition\n",
    "named_entities = ne_chunk(pos_tags)\n",
    "print(named_entities)"
   ]
  },
  {
   "cell_type": "code",
   "execution_count": 4,
   "id": "95a464c1",
   "metadata": {},
   "outputs": [
    {
     "name": "stdout",
     "output_type": "stream",
     "text": [
      "['all' 'analysis' 'and' 'are' 'areas' 'bioinformatics' 'biology'\n",
      " 'biomedicine' 'but' 'cellular' 'clinical' 'commentaries' 'comparative'\n",
      " 'content' 'covered' 'covers' 'disease' 'editing' 'engineering'\n",
      " 'epigenomics' 'evolution' 'from' 'functional' 'genome' 'genomic'\n",
      " 'genomics' 'include' 'includes' 'insights' 'into' 'limited' 'methods'\n",
      " 'molecular' 'network' 'new' 'not' 'of' 'opinions' 'organismal'\n",
      " 'perspective' 'population' 'post' 'proteomics' 'research' 'reviews'\n",
      " 'sequence' 'software' 'studied' 'systems' 'to' 'tools']\n"
     ]
    }
   ],
   "source": [
    "from sklearn.feature_extraction.text import CountVectorizer\n",
    "\n",
    "# Extracting keywords using CountVectorizer\n",
    "vectorizer = CountVectorizer()\n",
    "X = vectorizer.fit_transform([txt])\n",
    "keywords = vectorizer.get_feature_names_out()\n",
    "print(keywords)\n"
   ]
  },
  {
   "cell_type": "code",
   "execution_count": 5,
   "id": "99174ff2",
   "metadata": {},
   "outputs": [
    {
     "name": "stdout",
     "output_type": "stream",
     "text": [
      "{'neg': 0.0, 'neu': 0.972, 'pos': 0.028, 'compound': 0.2498}\n"
     ]
    }
   ],
   "source": [
    "from nltk.sentiment import SentimentIntensityAnalyzer\n",
    "\n",
    "# Analyzing sentiment\n",
    "sia = SentimentIntensityAnalyzer()\n",
    "sentiment_score = sia.polarity_scores(txt)\n",
    "print(sentiment_score)\n"
   ]
  },
  {
   "cell_type": "code",
   "execution_count": 6,
   "id": "db517fd6",
   "metadata": {},
   "outputs": [
    {
     "name": "stdout",
     "output_type": "stream",
     "text": [
      "[[0.03353158 0.86587369 0.03353158 0.03353158 0.03353158]]\n"
     ]
    }
   ],
   "source": [
    "from sklearn.feature_extraction.text import TfidfVectorizer\n",
    "from sklearn.decomposition import LatentDirichletAllocation\n",
    "\n",
    "# Topic modeling using Latent Dirichlet Allocation (LDA)\n",
    "tfidf_vectorizer = TfidfVectorizer()\n",
    "tfidf_matrix = tfidf_vectorizer.fit_transform([txt])\n",
    "\n",
    "lda_model = LatentDirichletAllocation(n_components=5, random_state=42)\n",
    "topics = lda_model.fit_transform(tfidf_matrix)\n",
    "print(topics)\n"
   ]
  },
  {
   "cell_type": "code",
   "execution_count": null,
   "id": "48ee9fb8",
   "metadata": {},
   "outputs": [],
   "source": []
  }
 ],
 "metadata": {
  "kernelspec": {
   "display_name": "Python 3 (ipykernel)",
   "language": "python",
   "name": "python3"
  },
  "language_info": {
   "codemirror_mode": {
    "name": "ipython",
    "version": 3
   },
   "file_extension": ".py",
   "mimetype": "text/x-python",
   "name": "python",
   "nbconvert_exporter": "python",
   "pygments_lexer": "ipython3",
   "version": "3.9.13"
  }
 },
 "nbformat": 4,
 "nbformat_minor": 5
}
